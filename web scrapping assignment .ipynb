{
 "cells": [
  {
   "cell_type": "code",
   "execution_count": 4,
   "id": "34cfd583-29d3-4206-8bc7-d0d35676739c",
   "metadata": {},
   "outputs": [
    {
     "data": {
      "text/plain": [
       "' Web scraping is an automatic method to obtain large amounts of data from websites.\\nMost of this data in an HTML format which is then converted into structured data in a spreadsheet or a database.\\n\\nIt is uesd because scrapy is very popular open source web crawling framework .\\nBeautiful soup is library that is highly suitable for web scrapping.\\n\\nWeb scraping is used to get data -\\n(1) price monitoring\\n(2) market research\\n(3) e-mail marketing.'"
      ]
     },
     "execution_count": 4,
     "metadata": {},
     "output_type": "execute_result"
    }
   ],
   "source": [
    "\"\"\" Web scraping is an automatic method to obtain large amounts of data from websites.\n",
    "Most of this data in an HTML format which is then converted into structured data in a spreadsheet or a database.\n",
    "\n",
    "It is uesd because scrapy is very popular open source web crawling framework .\n",
    "Beautiful soup is library that is highly suitable for web scrapping.\n",
    "\n",
    "Web scraping is used to get data -\n",
    "(1) price monitoring\n",
    "(2) market research\n",
    "(3) e-mail marketing.\"\"\""
   ]
  },
  {
   "cell_type": "code",
   "execution_count": 5,
   "id": "f465d5df-0a02-43e8-b676-90b5228c01ac",
   "metadata": {},
   "outputs": [
    {
     "data": {
      "text/plain": [
       "' The most different method used for web scraping is -\\n(1) Human copy and paste.\\n(2) Text pattern matching.\\n(3)HTTP programming.\\n(4) DOM parcing.\\n(5) vertical aggregation.\\n(6) Semantic annotation recognizing.\\n(7) Computer vision web page analysis.'"
      ]
     },
     "execution_count": 5,
     "metadata": {},
     "output_type": "execute_result"
    }
   ],
   "source": [
    "\"\"\" The most different method used for web scraping is -\n",
    "(1) Human copy and paste.\n",
    "(2) Text pattern matching.\n",
    "(3)HTTP programming.\n",
    "(4) DOM parcing.\n",
    "(5) vertical aggregation.\n",
    "(6) Semantic annotation recognizing.\n",
    "(7) Computer vision web page analysis.\"\"\""
   ]
  },
  {
   "cell_type": "code",
   "execution_count": 6,
   "id": "dc6c0ba8-f9eb-4bdc-9e8a-99784230cbed",
   "metadata": {},
   "outputs": [
    {
     "data": {
      "text/plain": [
       "'Beautiful Soup is a python package for parsing  HTML and XML documents.\\nIt is used for web scrapping.'"
      ]
     },
     "execution_count": 6,
     "metadata": {},
     "output_type": "execute_result"
    }
   ],
   "source": [
    "\"\"\"Beautiful Soup is a python package for parsing  HTML and XML documents.\n",
    "It is used for web scrapping.\"\"\""
   ]
  },
  {
   "cell_type": "code",
   "execution_count": 2,
   "id": "b3b6377e-aac4-4a84-8c3f-1a50b901cefa",
   "metadata": {},
   "outputs": [
    {
     "data": {
      "text/plain": [
       "' Flask is used for web scraping projects because it is flexible , easy to nagotiate , lightweight , documentation.'"
      ]
     },
     "execution_count": 2,
     "metadata": {},
     "output_type": "execute_result"
    }
   ],
   "source": [
    "\"\"\" Flask is used for web scraping projects because it is flexible , easy to nagotiate , lightweight , documentation.\"\"\""
   ]
  },
  {
   "cell_type": "code",
   "execution_count": 1,
   "id": "e6f03507-db88-4030-a7c6-d2645ceaf268",
   "metadata": {},
   "outputs": [
    {
     "data": {
      "text/plain": [
       "' The name os AWS services is Elastic Cloud Computing , Relational Database Service , Amazon Lambda.\\nElastic cloud computing is a cloud platform provided by amazon that offers secure , and resizable compute capacity.\\nRelational database service makes data base configuration , management and scaling easy in the cloud.\\nLambda permits to run code without owning and managing servers .'"
      ]
     },
     "execution_count": 1,
     "metadata": {},
     "output_type": "execute_result"
    }
   ],
   "source": [
    "\"\"\" The name os AWS services is Elastic Cloud Computing , Relational Database Service , Amazon Lambda.\n",
    "Elastic cloud computing is a cloud platform provided by amazon that offers secure , and resizable compute capacity.\n",
    "Relational database service makes data base configuration , management and scaling easy in the cloud.\n",
    "Lambda permits to run code without owning and managing servers .\"\"\""
   ]
  },
  {
   "cell_type": "code",
   "execution_count": null,
   "id": "679eaac8-58a6-4682-9d5f-f55c47580696",
   "metadata": {},
   "outputs": [],
   "source": []
  }
 ],
 "metadata": {
  "kernelspec": {
   "display_name": "Python 3 (ipykernel)",
   "language": "python",
   "name": "python3"
  },
  "language_info": {
   "codemirror_mode": {
    "name": "ipython",
    "version": 3
   },
   "file_extension": ".py",
   "mimetype": "text/x-python",
   "name": "python",
   "nbconvert_exporter": "python",
   "pygments_lexer": "ipython3",
   "version": "3.10.8"
  }
 },
 "nbformat": 4,
 "nbformat_minor": 5
}
